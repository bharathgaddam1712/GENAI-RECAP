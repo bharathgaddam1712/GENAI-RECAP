{
 "cells": [
  {
   "cell_type": "code",
   "execution_count": 154,
   "id": "9419340b-83e0-4e44-814c-97a538b1a854",
   "metadata": {},
   "outputs": [
    {
     "name": "stderr",
     "output_type": "stream",
     "text": [
      "'[title]' is not recognized as an internal or external command,\n",
      "operable program or batch file.\n"
     ]
    }
   ],
   "source": [
    "![title](\"RAG_FROM_SCRATCH.png\")"
   ]
  },
  {
   "cell_type": "code",
   "execution_count": 138,
   "id": "67ac2b8d-c23f-4dfa-ab53-b93afe73386c",
   "metadata": {},
   "outputs": [],
   "source": [
    "sentences = [\n",
    "    \"The sun sets beautifully over the horizon.\",\n",
    "    \"Machine learning is transforming industries worldwide.\",\n",
    "    \"I can't believe how amazing this new movie is!\",\n",
    "    \"She enjoys reading books about ancient civilizations.\",\n",
    "    \"The cat jumped onto the table and knocked over the vase.\",\n",
    "    \"Artificial intelligence is a fascinating field of study.\",\n",
    "    \"He was late for the meeting because of the traffic jam.\",\n",
    "    \"The children were excited to visit the zoo for the first time.\",\n",
    "    \"This restaurant serves the best pasta in the city!\",\n",
    "    \"After a long day at work, she enjoys a cup of tea.\"\n",
    "]"
   ]
  },
  {
   "cell_type": "code",
   "execution_count": 139,
   "id": "deb85743-4bcf-4d5d-90df-170e495206d3",
   "metadata": {},
   "outputs": [],
   "source": [
    "from collections import Counter\n",
    "import math"
   ]
  },
  {
   "cell_type": "code",
   "execution_count": 140,
   "id": "79f9e440-d6dd-4c8e-9323-c47b20490c61",
   "metadata": {},
   "outputs": [],
   "source": [
    "def cosine_similarity(query,document):\n",
    "    ## Tokenize\n",
    "    query_tokens=user_query.lower().split(\" \")\n",
    "    document_tokens=document.lower().split(\" \")\n",
    "\n",
    "    ## Define Counter\n",
    "    query_counter=Counter(query_tokens)\n",
    "    document_counter=Counter(document_tokens)\n",
    "\n",
    "     # Calculate dot product\n",
    "    dot_product = sum(query_counter[token] * document_counter[token] for token in query_counter.keys() & document_counter.keys())\n",
    "\n",
    "    # Calculate magnitudes\n",
    "\n",
    "    query_magnitude = math.sqrt(sum(query_counter[token] ** 2 for token in query_counter))\n",
    "    document_magnitude = math.sqrt(sum(document_counter[token] ** 2 for token in document_counter))\n",
    "\n",
    "    #Calucluate Similarity\n",
    "    similarity = dot_product / (query_magnitude * document_magnitude) if query_magnitude * document_magnitude != 0 else 0\n",
    "\n",
    "    return similarity\n",
    "    \n",
    "    \n",
    "    \n"
   ]
  },
  {
   "cell_type": "code",
   "execution_count": 141,
   "id": "dfd70501-1320-4431-b4b3-868dac8079f7",
   "metadata": {},
   "outputs": [],
   "source": [
    "def return_response(query,document):\n",
    "    similarities = []\n",
    "    for doc in document:\n",
    "        similarity = cosine_similarity(query,doc)\n",
    "        similarities.append(similarity)\n",
    "    return sentences[similarities.index(max(similarities))]"
   ]
  },
  {
   "cell_type": "code",
   "execution_count": 142,
   "id": "52276711-aca9-42c7-8a66-1e8481839b25",
   "metadata": {},
   "outputs": [],
   "source": [
    "user_input=\"i like cup of tea\""
   ]
  },
  {
   "cell_type": "code",
   "execution_count": 143,
   "id": "7b27dc00-4062-4322-9cde-f60a6a1cff48",
   "metadata": {},
   "outputs": [],
   "source": [
    "relevant_document=return_response(user_input,sentences)"
   ]
  },
  {
   "cell_type": "code",
   "execution_count": 144,
   "id": "812e8802-a61d-4122-be8c-721ae714f58c",
   "metadata": {},
   "outputs": [
    {
     "data": {
      "text/plain": [
       "'The sun sets beautifully over the horizon.'"
      ]
     },
     "execution_count": 144,
     "metadata": {},
     "output_type": "execute_result"
    }
   ],
   "source": [
    "relevant_document"
   ]
  },
  {
   "cell_type": "code",
   "execution_count": 145,
   "id": "fc7fd6e3-3682-479d-ad7e-13dc9cc200c8",
   "metadata": {},
   "outputs": [],
   "source": [
    "import requests\n",
    "import json\n",
    "full_response = []"
   ]
  },
  {
   "cell_type": "code",
   "execution_count": 148,
   "id": "8aec5e19-f322-4fa5-b712-660d95eb287e",
   "metadata": {},
   "outputs": [
    {
     "name": "stdout",
     "output_type": "stream",
     "text": [
      " \"Enjoy your cup of tea while watching the beautiful sunset. The tranquil atmosphere will complement the warmth of your beverage.\"\n"
     ]
    }
   ],
   "source": [
    "import requests\n",
    "import json\n",
    "\n",
    "full_response = []\n",
    "prompt = \"\"\" \n",
    "You are a bot that makes recommendations based on the given data.And response should be less than 100 words\n",
    "This is the recommended activity: {relevant_document}\n",
    "The user input is: {user_input}\n",
    "Compile a recommendation to the user based on the recommended activity and the user input.\n",
    "\"\"\"\n",
    "\n",
    "\n",
    "url = 'http://localhost:11434/api/generate'\n",
    "\n",
    "data = {\n",
    "    \"model\": \"llama2\",\n",
    "    \"prompt\": prompt.format(user_input=user_input, relevant_document=relevant_document)\n",
    "}\n",
    "\n",
    "headers = {'Content-Type': 'application/json'}\n",
    "\n",
    "response = requests.post(url, data=json.dumps(data), headers=headers, stream=True)\n",
    "\n",
    "try:\n",
    "    for line in response.iter_lines():\n",
    "        # filter out keep-alive new lines\n",
    "        if line:\n",
    "            decoded_line = json.loads(line.decode('utf-8'))\n",
    "            # print(decoded_line['response'])  # uncomment to results, token by token\n",
    "            full_response.append(decoded_line['response'])\n",
    "finally:\n",
    "    response.close()\n",
    "\n",
    "print(''.join(full_response))\n"
   ]
  },
  {
   "cell_type": "code",
   "execution_count": 147,
   "id": "10817814-9476-4757-9448-31a5a4cce6c9",
   "metadata": {},
   "outputs": [
    {
     "name": "stdout",
     "output_type": "stream",
     "text": [
      "hello\n"
     ]
    }
   ],
   "source": [
    "print(\"hello\")"
   ]
  },
  {
   "cell_type": "code",
   "execution_count": null,
   "id": "6231147c-099a-4f36-b579-860bc60a9609",
   "metadata": {},
   "outputs": [],
   "source": []
  }
 ],
 "metadata": {
  "kernelspec": {
   "display_name": "Python 3 (ipykernel)",
   "language": "python",
   "name": "python3"
  },
  "language_info": {
   "codemirror_mode": {
    "name": "ipython",
    "version": 3
   },
   "file_extension": ".py",
   "mimetype": "text/x-python",
   "name": "python",
   "nbconvert_exporter": "python",
   "pygments_lexer": "ipython3",
   "version": "3.11.9"
  }
 },
 "nbformat": 4,
 "nbformat_minor": 5
}
